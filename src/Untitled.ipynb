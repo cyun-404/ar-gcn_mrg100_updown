{
 "cells": [
  {
   "cell_type": "code",
   "execution_count": 3,
   "id": "d7eee1a5",
   "metadata": {},
   "outputs": [],
   "source": [
    "import gc\n",
    "import torch\n",
    "gc.collect()\n",
    "torch.cuda.empty_cache()"
   ]
  },
  {
   "cell_type": "code",
   "execution_count": 1,
   "id": "d0751d04",
   "metadata": {},
   "outputs": [],
   "source": [
    "strs = [\"eat\",\"tea\",\"tan\",\"ate\",\"nat\",\"bat\"]"
   ]
  },
  {
   "cell_type": "code",
   "execution_count": 49,
   "id": "d3c0f1a2",
   "metadata": {},
   "outputs": [
    {
     "name": "stdout",
     "output_type": "stream",
     "text": [
      "aet\n",
      "aet\n",
      "ant\n",
      "aet\n",
      "ant\n",
      "abt\n"
     ]
    }
   ],
   "source": [
    "for words in strs:\n",
    "        print(''.join(sorted(words)))"
   ]
  },
  {
   "cell_type": "code",
   "execution_count": 47,
   "id": "38c022e1",
   "metadata": {},
   "outputs": [],
   "source": [
    "import collections"
   ]
  },
  {
   "cell_type": "code",
   "execution_count": 38,
   "id": "3ec06d00",
   "metadata": {},
   "outputs": [],
   "source": [
    "a = collections.defaultdict(list)"
   ]
  },
  {
   "cell_type": "code",
   "execution_count": 39,
   "id": "70d6bf61",
   "metadata": {},
   "outputs": [],
   "source": [
    "a[321].append('a')"
   ]
  },
  {
   "cell_type": "code",
   "execution_count": 40,
   "id": "c9904b1e",
   "metadata": {},
   "outputs": [],
   "source": [
    "a[321].append('b')"
   ]
  },
  {
   "cell_type": "code",
   "execution_count": 41,
   "id": "c9661724",
   "metadata": {},
   "outputs": [
    {
     "data": {
      "text/plain": [
       "['a', 'b']"
      ]
     },
     "execution_count": 41,
     "metadata": {},
     "output_type": "execute_result"
    }
   ],
   "source": [
    "a[321]"
   ]
  },
  {
   "cell_type": "code",
   "execution_count": 42,
   "id": "29b0b4f0",
   "metadata": {},
   "outputs": [
    {
     "data": {
      "text/plain": [
       "defaultdict(list, {321: ['a', 'b']})"
      ]
     },
     "execution_count": 42,
     "metadata": {},
     "output_type": "execute_result"
    }
   ],
   "source": [
    "a"
   ]
  },
  {
   "cell_type": "code",
   "execution_count": 43,
   "id": "f0e3310c",
   "metadata": {},
   "outputs": [
    {
     "data": {
      "text/plain": [
       "dict_keys([321])"
      ]
     },
     "execution_count": 43,
     "metadata": {},
     "output_type": "execute_result"
    }
   ],
   "source": [
    "a.keys()"
   ]
  },
  {
   "cell_type": "code",
   "execution_count": 44,
   "id": "b15a4590",
   "metadata": {},
   "outputs": [
    {
     "name": "stdout",
     "output_type": "stream",
     "text": [
      "321 __ ['a', 'b']\n"
     ]
    }
   ],
   "source": [
    "for i, t in a.items():\n",
    "    print(i,\"__\",t)"
   ]
  },
  {
   "cell_type": "code",
   "execution_count": null,
   "id": "466f4953",
   "metadata": {},
   "outputs": [],
   "source": []
  }
 ],
 "metadata": {
  "kernelspec": {
   "display_name": "torch",
   "language": "python",
   "name": "torch"
  },
  "language_info": {
   "codemirror_mode": {
    "name": "ipython",
    "version": 3
   },
   "file_extension": ".py",
   "mimetype": "text/x-python",
   "name": "python",
   "nbconvert_exporter": "python",
   "pygments_lexer": "ipython3",
   "version": "3.10.4"
  }
 },
 "nbformat": 4,
 "nbformat_minor": 5
}
